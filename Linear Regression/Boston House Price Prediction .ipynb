{
 "cells": [
  {
   "cell_type": "markdown",
   "metadata": {},
   "source": [
    "<div  style=\"text-align:center;   min-height: 10px; background-color: lightblue; padding: 20px; border: 2px solid blue; border-radius: 10px; width: 300px; margin: 20px auto;\">\n",
    "    \n",
    "  <center><strong> Car Price Prediction </strong></center>\n",
    "\n",
    "</div>"
   ]
  }
 ],
 "metadata": {
  "language_info": {
   "name": "python"
  }
 },
 "nbformat": 4,
 "nbformat_minor": 2
}
